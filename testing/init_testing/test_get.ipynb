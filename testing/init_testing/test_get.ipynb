{
 "cells": [
  {
   "cell_type": "code",
   "execution_count": 7,
   "metadata": {},
   "outputs": [
    {
     "ename": "ModuleNotFoundError",
     "evalue": "No module named 'get_records'",
     "output_type": "error",
     "traceback": [
      "\u001b[1;31m---------------------------------------------------------------------------\u001b[0m",
      "\u001b[1;31mModuleNotFoundError\u001b[0m                       Traceback (most recent call last)",
      "\u001b[1;32mc:\\Users\\johnn\\OneDrive\\Desktop\\School\\Topics-in-software-devolopment\\zummo-bike-project\\testing\\init_testing\\test_get.ipynb Cell 1\u001b[0m line \u001b[0;36m3\n\u001b[0;32m      <a href='vscode-notebook-cell:/c%3A/Users/johnn/OneDrive/Desktop/School/Topics-in-software-devolopment/zummo-bike-project/testing/init_testing/test_get.ipynb#W0sZmlsZQ%3D%3D?line=0'>1</a>\u001b[0m \u001b[39mimport\u001b[39;00m \u001b[39msys\u001b[39;00m\n\u001b[0;32m      <a href='vscode-notebook-cell:/c%3A/Users/johnn/OneDrive/Desktop/School/Topics-in-software-devolopment/zummo-bike-project/testing/init_testing/test_get.ipynb#W0sZmlsZQ%3D%3D?line=1'>2</a>\u001b[0m sys\u001b[39m.\u001b[39mpath\u001b[39m.\u001b[39mappend(\u001b[39m'\u001b[39m\u001b[39m../src/\u001b[39m\u001b[39m'\u001b[39m)\n\u001b[1;32m----> <a href='vscode-notebook-cell:/c%3A/Users/johnn/OneDrive/Desktop/School/Topics-in-software-devolopment/zummo-bike-project/testing/init_testing/test_get.ipynb#W0sZmlsZQ%3D%3D?line=2'>3</a>\u001b[0m \u001b[39mfrom\u001b[39;00m \u001b[39mget_records\u001b[39;00m \u001b[39mimport\u001b[39;00m get_records\n\u001b[0;32m      <a href='vscode-notebook-cell:/c%3A/Users/johnn/OneDrive/Desktop/School/Topics-in-software-devolopment/zummo-bike-project/testing/init_testing/test_get.ipynb#W0sZmlsZQ%3D%3D?line=3'>4</a>\u001b[0m \u001b[39mfrom\u001b[39;00m \u001b[39mconfig\u001b[39;00m \u001b[39mimport\u001b[39;00m AIRTABLE_PAT, AIRTABLE_TEST_BASE_ID, AIRTABLE_TEST_BIKES_FOR_SALE, AIRTABLE_TEST_SERVICES\n\u001b[0;32m      <a href='vscode-notebook-cell:/c%3A/Users/johnn/OneDrive/Desktop/School/Topics-in-software-devolopment/zummo-bike-project/testing/init_testing/test_get.ipynb#W0sZmlsZQ%3D%3D?line=4'>5</a>\u001b[0m \u001b[39mfrom\u001b[39;00m \u001b[39mpprint\u001b[39;00m \u001b[39mimport\u001b[39;00m pprint\n",
      "\u001b[1;31mModuleNotFoundError\u001b[0m: No module named 'get_records'"
     ]
    }
   ],
   "source": [
    "import sys\n",
    "sys.path.append('../src/')\n",
    "from get_records import get_records\n",
    "from config import AIRTABLE_PAT, AIRTABLE_TEST_BASE_ID, AIRTABLE_TEST_BIKES_FOR_SALE, AIRTABLE_TEST_SERVICES\n",
    "from pprint import pprint\n",
    "from pyairtable import Api"
   ]
  },
  {
   "cell_type": "code",
   "execution_count": null,
   "metadata": {},
   "outputs": [
    {
     "name": "stdout",
     "output_type": "stream",
     "text": [
      "Error: Invalid field(s) or value(s)\n",
      "[]\n"
     ]
    }
   ],
   "source": [
    "api = Api(AIRTABLE_PAT)\n",
    "table = api.table(AIRTABLE_TEST_BASE_ID, AIRTABLE_TEST_BIKES_FOR_SALE)\n",
    "fields = {\n",
    "    'Bike Status': 'Available',\n",
    "    'Bike Style': 'Road',\n",
    "}\n",
    "pprint(get_records(table, fields))"
   ]
  },
  {
   "cell_type": "code",
   "execution_count": null,
   "metadata": {},
   "outputs": [
    {
     "ename": "HTTPError",
     "evalue": "('401 Client Error: Unauthorized for url: https://api.airtable.com/v0/appr8SepSgx9SP6ir/tbl2hG3F6LlSW3Bm7', \"401 Client Error: Unauthorized for url: https://api.airtable.com/v0/appr8SepSgx9SP6ir/tbl2hG3F6LlSW3Bm7 [Error: {'type': 'AUTHENTICATION_REQUIRED', 'message': 'Authentication required'}]\")",
     "output_type": "error",
     "traceback": [
      "\u001b[1;31m---------------------------------------------------------------------------\u001b[0m",
      "\u001b[1;31mHTTPError\u001b[0m                                 Traceback (most recent call last)",
      "\u001b[1;32mc:\\Users\\John\\OneDrive\\Desktop\\School\\Topics-in-software-devolopment\\zummo-bike-project\\testing\\test_get.ipynb Cell 3\u001b[0m line \u001b[0;36m2\n\u001b[0;32m      <a href='vscode-notebook-cell:/c%3A/Users/John/OneDrive/Desktop/School/Topics-in-software-devolopment/zummo-bike-project/testing/test_get.ipynb#W2sZmlsZQ%3D%3D?line=0'>1</a>\u001b[0m table \u001b[39m=\u001b[39m api\u001b[39m.\u001b[39mtable(AIRTABLE_TEST_BASE_ID, AIRTABLE_TEST_SERVICES)\n\u001b[1;32m----> <a href='vscode-notebook-cell:/c%3A/Users/John/OneDrive/Desktop/School/Topics-in-software-devolopment/zummo-bike-project/testing/test_get.ipynb#W2sZmlsZQ%3D%3D?line=1'>2</a>\u001b[0m pprint(table\u001b[39m.\u001b[39;49mall())\n\u001b[0;32m      <a href='vscode-notebook-cell:/c%3A/Users/John/OneDrive/Desktop/School/Topics-in-software-devolopment/zummo-bike-project/testing/test_get.ipynb#W2sZmlsZQ%3D%3D?line=2'>3</a>\u001b[0m fields \u001b[39m=\u001b[39m {\n\u001b[0;32m      <a href='vscode-notebook-cell:/c%3A/Users/John/OneDrive/Desktop/School/Topics-in-software-devolopment/zummo-bike-project/testing/test_get.ipynb#W2sZmlsZQ%3D%3D?line=3'>4</a>\u001b[0m     \u001b[39m'\u001b[39m\u001b[39mBike Status\u001b[39m\u001b[39m'\u001b[39m: \u001b[39m'\u001b[39m\u001b[39mAvailable\u001b[39m\u001b[39m'\u001b[39m,\n\u001b[0;32m      <a href='vscode-notebook-cell:/c%3A/Users/John/OneDrive/Desktop/School/Topics-in-software-devolopment/zummo-bike-project/testing/test_get.ipynb#W2sZmlsZQ%3D%3D?line=4'>5</a>\u001b[0m     \u001b[39m'\u001b[39m\u001b[39mBike Style\u001b[39m\u001b[39m'\u001b[39m: \u001b[39m'\u001b[39m\u001b[39mRoad\u001b[39m\u001b[39m'\u001b[39m,\n\u001b[0;32m      <a href='vscode-notebook-cell:/c%3A/Users/John/OneDrive/Desktop/School/Topics-in-software-devolopment/zummo-bike-project/testing/test_get.ipynb#W2sZmlsZQ%3D%3D?line=5'>6</a>\u001b[0m }\n\u001b[0;32m      <a href='vscode-notebook-cell:/c%3A/Users/John/OneDrive/Desktop/School/Topics-in-software-devolopment/zummo-bike-project/testing/test_get.ipynb#W2sZmlsZQ%3D%3D?line=6'>7</a>\u001b[0m pprint(get_records(table, fields))\n",
      "File \u001b[1;32mc:\\Users\\John\\AppData\\Local\\Programs\\Python\\Python311\\Lib\\site-packages\\pyairtable\\api\\table.py:206\u001b[0m, in \u001b[0;36mTable.all\u001b[1;34m(self, **options)\u001b[0m\n\u001b[0;32m    184\u001b[0m \u001b[39mdef\u001b[39;00m \u001b[39mall\u001b[39m(\u001b[39mself\u001b[39m, \u001b[39m*\u001b[39m\u001b[39m*\u001b[39moptions: Any) \u001b[39m-\u001b[39m\u001b[39m>\u001b[39m List[RecordDict]:\n\u001b[0;32m    185\u001b[0m \u001b[39m    \u001b[39m\u001b[39m\"\"\"\u001b[39;00m\n\u001b[0;32m    186\u001b[0m \u001b[39m    Retrieves all matching records in a single list.\u001b[39;00m\n\u001b[0;32m    187\u001b[0m \n\u001b[1;32m   (...)\u001b[0m\n\u001b[0;32m    204\u001b[0m \u001b[39m        return_fields_by_field_id: |kwarg_return_fields_by_field_id|\u001b[39;00m\n\u001b[0;32m    205\u001b[0m \u001b[39m    \"\"\"\u001b[39;00m\n\u001b[1;32m--> 206\u001b[0m     \u001b[39mreturn\u001b[39;00m [record \u001b[39mfor\u001b[39;49;00m page \u001b[39min\u001b[39;49;00m \u001b[39mself\u001b[39;49m\u001b[39m.\u001b[39;49miterate(\u001b[39m*\u001b[39;49m\u001b[39m*\u001b[39;49moptions) \u001b[39mfor\u001b[39;49;00m record \u001b[39min\u001b[39;49;00m page]\n",
      "File \u001b[1;32mc:\\Users\\John\\AppData\\Local\\Programs\\Python\\Python311\\Lib\\site-packages\\pyairtable\\api\\table.py:206\u001b[0m, in \u001b[0;36m<listcomp>\u001b[1;34m(.0)\u001b[0m\n\u001b[0;32m    184\u001b[0m \u001b[39mdef\u001b[39;00m \u001b[39mall\u001b[39m(\u001b[39mself\u001b[39m, \u001b[39m*\u001b[39m\u001b[39m*\u001b[39moptions: Any) \u001b[39m-\u001b[39m\u001b[39m>\u001b[39m List[RecordDict]:\n\u001b[0;32m    185\u001b[0m \u001b[39m    \u001b[39m\u001b[39m\"\"\"\u001b[39;00m\n\u001b[0;32m    186\u001b[0m \u001b[39m    Retrieves all matching records in a single list.\u001b[39;00m\n\u001b[0;32m    187\u001b[0m \n\u001b[1;32m   (...)\u001b[0m\n\u001b[0;32m    204\u001b[0m \u001b[39m        return_fields_by_field_id: |kwarg_return_fields_by_field_id|\u001b[39;00m\n\u001b[0;32m    205\u001b[0m \u001b[39m    \"\"\"\u001b[39;00m\n\u001b[1;32m--> 206\u001b[0m     \u001b[39mreturn\u001b[39;00m [record \u001b[39mfor\u001b[39;49;00m page \u001b[39min\u001b[39;49;00m \u001b[39mself\u001b[39;49m\u001b[39m.\u001b[39;49miterate(\u001b[39m*\u001b[39;49m\u001b[39m*\u001b[39;49moptions) \u001b[39mfor\u001b[39;49;00m record \u001b[39min\u001b[39;49;00m page]\n",
      "File \u001b[1;32mc:\\Users\\John\\AppData\\Local\\Programs\\Python\\Python311\\Lib\\site-packages\\pyairtable\\api\\table.py:176\u001b[0m, in \u001b[0;36mTable.iterate\u001b[1;34m(self, **options)\u001b[0m\n\u001b[0;32m    148\u001b[0m \u001b[39mdef\u001b[39;00m \u001b[39miterate\u001b[39m(\u001b[39mself\u001b[39m, \u001b[39m*\u001b[39m\u001b[39m*\u001b[39moptions: Any) \u001b[39m-\u001b[39m\u001b[39m>\u001b[39m Iterator[List[RecordDict]]:\n\u001b[0;32m    149\u001b[0m \u001b[39m    \u001b[39m\u001b[39m\"\"\"\u001b[39;00m\n\u001b[0;32m    150\u001b[0m \u001b[39m    Iterates through each page of results from `List records <https://airtable.com/developers/web/api/list-records>`_.\u001b[39;00m\n\u001b[0;32m    151\u001b[0m \u001b[39m    To get all records at once, use :meth:`all`.\u001b[39;00m\n\u001b[1;32m   (...)\u001b[0m\n\u001b[0;32m    174\u001b[0m \u001b[39m        return_fields_by_field_id: |kwarg_return_fields_by_field_id|\u001b[39;00m\n\u001b[0;32m    175\u001b[0m \u001b[39m    \"\"\"\u001b[39;00m\n\u001b[1;32m--> 176\u001b[0m     \u001b[39mfor\u001b[39;49;00m page \u001b[39min\u001b[39;49;00m \u001b[39mself\u001b[39;49m\u001b[39m.\u001b[39;49mapi\u001b[39m.\u001b[39;49miterate_requests(\n\u001b[0;32m    177\u001b[0m         method\u001b[39m=\u001b[39;49m\u001b[39m\"\u001b[39;49m\u001b[39mget\u001b[39;49m\u001b[39m\"\u001b[39;49m,\n\u001b[0;32m    178\u001b[0m         url\u001b[39m=\u001b[39;49m\u001b[39mself\u001b[39;49m\u001b[39m.\u001b[39;49murl,\n\u001b[0;32m    179\u001b[0m         fallback\u001b[39m=\u001b[39;49m(\u001b[39m\"\u001b[39;49m\u001b[39mpost\u001b[39;49m\u001b[39m\"\u001b[39;49m, \u001b[39mf\u001b[39;49m\u001b[39m\"\u001b[39;49m\u001b[39m{\u001b[39;49;00m\u001b[39mself\u001b[39;49m\u001b[39m.\u001b[39;49murl\u001b[39m}\u001b[39;49;00m\u001b[39m/listRecords\u001b[39;49m\u001b[39m\"\u001b[39;49m),\n\u001b[0;32m    180\u001b[0m         options\u001b[39m=\u001b[39;49moptions,\n\u001b[0;32m    181\u001b[0m     ):\n\u001b[0;32m    182\u001b[0m         \u001b[39myield\u001b[39;49;00m assert_typed_dicts(RecordDict, page\u001b[39m.\u001b[39;49mget(\u001b[39m\"\u001b[39;49m\u001b[39mrecords\u001b[39;49m\u001b[39m\"\u001b[39;49m, []))\n",
      "File \u001b[1;32mc:\\Users\\John\\AppData\\Local\\Programs\\Python\\Python311\\Lib\\site-packages\\pyairtable\\api\\api.py:219\u001b[0m, in \u001b[0;36mApi.iterate_requests\u001b[1;34m(self, method, url, fallback, options, offset_field)\u001b[0m\n\u001b[0;32m    217\u001b[0m options \u001b[39m=\u001b[39m options \u001b[39mor\u001b[39;00m {}\n\u001b[0;32m    218\u001b[0m \u001b[39mwhile\u001b[39;00m \u001b[39mTrue\u001b[39;00m:\n\u001b[1;32m--> 219\u001b[0m     response \u001b[39m=\u001b[39m \u001b[39mself\u001b[39;49m\u001b[39m.\u001b[39;49mrequest(method, url, fallback\u001b[39m=\u001b[39;49mfallback, options\u001b[39m=\u001b[39;49moptions)\n\u001b[0;32m    220\u001b[0m     \u001b[39myield\u001b[39;00m response\n\u001b[0;32m    221\u001b[0m     \u001b[39mif\u001b[39;00m \u001b[39mnot\u001b[39;00m \u001b[39misinstance\u001b[39m(response, \u001b[39mdict\u001b[39m):\n",
      "File \u001b[1;32mc:\\Users\\John\\AppData\\Local\\Programs\\Python\\Python311\\Lib\\site-packages\\pyairtable\\api\\api.py:166\u001b[0m, in \u001b[0;36mApi.request\u001b[1;34m(self, method, url, fallback, options, params, json)\u001b[0m\n\u001b[0;32m    158\u001b[0m     \u001b[39mreturn\u001b[39;00m \u001b[39mself\u001b[39m\u001b[39m.\u001b[39mrequest(\n\u001b[0;32m    159\u001b[0m         method\u001b[39m=\u001b[39mfallback[\u001b[39m0\u001b[39m],\n\u001b[0;32m    160\u001b[0m         url\u001b[39m=\u001b[39mfallback[\u001b[39m1\u001b[39m],\n\u001b[0;32m    161\u001b[0m         params\u001b[39m=\u001b[39m{\u001b[39m*\u001b[39m\u001b[39m*\u001b[39mspare_params, \u001b[39m*\u001b[39m\u001b[39m*\u001b[39m(params \u001b[39mor\u001b[39;00m {})},\n\u001b[0;32m    162\u001b[0m         json\u001b[39m=\u001b[39mjson,\n\u001b[0;32m    163\u001b[0m     )\n\u001b[0;32m    165\u001b[0m response \u001b[39m=\u001b[39m \u001b[39mself\u001b[39m\u001b[39m.\u001b[39msession\u001b[39m.\u001b[39msend(prepared, timeout\u001b[39m=\u001b[39m\u001b[39mself\u001b[39m\u001b[39m.\u001b[39mtimeout)\n\u001b[1;32m--> 166\u001b[0m \u001b[39mreturn\u001b[39;00m \u001b[39mself\u001b[39;49m\u001b[39m.\u001b[39;49m_process_response(response)\n",
      "File \u001b[1;32mc:\\Users\\John\\AppData\\Local\\Programs\\Python\\Python311\\Lib\\site-packages\\pyairtable\\api\\api.py:183\u001b[0m, in \u001b[0;36mApi._process_response\u001b[1;34m(self, response)\u001b[0m\n\u001b[0;32m    181\u001b[0m             err_msg \u001b[39m+\u001b[39m\u001b[39m=\u001b[39m \u001b[39m\"\u001b[39m\u001b[39m [Error: \u001b[39m\u001b[39m{}\u001b[39;00m\u001b[39m]\u001b[39m\u001b[39m\"\u001b[39m\u001b[39m.\u001b[39mformat(error_dict[\u001b[39m\"\u001b[39m\u001b[39merror\u001b[39m\u001b[39m\"\u001b[39m])\n\u001b[0;32m    182\u001b[0m     exc\u001b[39m.\u001b[39margs \u001b[39m=\u001b[39m (\u001b[39m*\u001b[39mexc\u001b[39m.\u001b[39margs, err_msg)\n\u001b[1;32m--> 183\u001b[0m     \u001b[39mraise\u001b[39;00m exc\n\u001b[0;32m    185\u001b[0m \u001b[39m# Some Airtable endpoints will respond with an empty body and a 200.\u001b[39;00m\n\u001b[0;32m    186\u001b[0m \u001b[39mif\u001b[39;00m \u001b[39mnot\u001b[39;00m response\u001b[39m.\u001b[39mtext:\n",
      "File \u001b[1;32mc:\\Users\\John\\AppData\\Local\\Programs\\Python\\Python311\\Lib\\site-packages\\pyairtable\\api\\api.py:170\u001b[0m, in \u001b[0;36mApi._process_response\u001b[1;34m(self, response)\u001b[0m\n\u001b[0;32m    168\u001b[0m \u001b[39mdef\u001b[39;00m \u001b[39m_process_response\u001b[39m(\u001b[39mself\u001b[39m, response: requests\u001b[39m.\u001b[39mResponse) \u001b[39m-\u001b[39m\u001b[39m>\u001b[39m Any:\n\u001b[0;32m    169\u001b[0m     \u001b[39mtry\u001b[39;00m:\n\u001b[1;32m--> 170\u001b[0m         response\u001b[39m.\u001b[39;49mraise_for_status()\n\u001b[0;32m    171\u001b[0m     \u001b[39mexcept\u001b[39;00m requests\u001b[39m.\u001b[39mexceptions\u001b[39m.\u001b[39mHTTPError \u001b[39mas\u001b[39;00m exc:\n\u001b[0;32m    172\u001b[0m         err_msg \u001b[39m=\u001b[39m \u001b[39mstr\u001b[39m(exc)\n",
      "File \u001b[1;32mc:\\Users\\John\\AppData\\Local\\Programs\\Python\\Python311\\Lib\\site-packages\\requests\\models.py:1021\u001b[0m, in \u001b[0;36mResponse.raise_for_status\u001b[1;34m(self)\u001b[0m\n\u001b[0;32m   1016\u001b[0m     http_error_msg \u001b[39m=\u001b[39m (\n\u001b[0;32m   1017\u001b[0m         \u001b[39mf\u001b[39m\u001b[39m\"\u001b[39m\u001b[39m{\u001b[39;00m\u001b[39mself\u001b[39m\u001b[39m.\u001b[39mstatus_code\u001b[39m}\u001b[39;00m\u001b[39m Server Error: \u001b[39m\u001b[39m{\u001b[39;00mreason\u001b[39m}\u001b[39;00m\u001b[39m for url: \u001b[39m\u001b[39m{\u001b[39;00m\u001b[39mself\u001b[39m\u001b[39m.\u001b[39murl\u001b[39m}\u001b[39;00m\u001b[39m\"\u001b[39m\n\u001b[0;32m   1018\u001b[0m     )\n\u001b[0;32m   1020\u001b[0m \u001b[39mif\u001b[39;00m http_error_msg:\n\u001b[1;32m-> 1021\u001b[0m     \u001b[39mraise\u001b[39;00m HTTPError(http_error_msg, response\u001b[39m=\u001b[39m\u001b[39mself\u001b[39m)\n",
      "\u001b[1;31mHTTPError\u001b[0m: ('401 Client Error: Unauthorized for url: https://api.airtable.com/v0/appr8SepSgx9SP6ir/tbl2hG3F6LlSW3Bm7', \"401 Client Error: Unauthorized for url: https://api.airtable.com/v0/appr8SepSgx9SP6ir/tbl2hG3F6LlSW3Bm7 [Error: {'type': 'AUTHENTICATION_REQUIRED', 'message': 'Authentication required'}]\")"
     ]
    }
   ],
   "source": [
    "table = api.table(AIRTABLE_TEST_BASE_ID, AIRTABLE_TEST_SERVICES)\n",
    "pprint(table.all())\n",
    "fields = {\n",
    "    'Bike Status': 'Available',\n",
    "    'Bike Style': 'Road',\n",
    "}\n",
    "pprint(get_records(table, fields))"
   ]
  },
  {
   "cell_type": "code",
   "execution_count": null,
   "metadata": {},
   "outputs": [],
   "source": [
    "import os\n",
    "from dotenv import load_dotenv\n",
    "from flask import Flask, render_template\n",
    "from pyairtable import Table\n",
    "\n",
    "load_dotenv()\n",
    "\n",
    "AIRTABLE_PAT = (os.getenv(\"AIRTABLE_PAT\")) #-> str: #initalizes personal access token\n",
    "AIRTABLE_TEST_BASE_ID = (os.getenv(\"AIRTABLE_BASEID\")) #-> str: #initalizes base ID\n",
    "AIRTABLE_TEST_CONTACTS = (os.getenv(\"AIRTABLE_CONTACTS\")) #-> str: #initalizes table\n",
    "\n",
    "app = Flask(__name__)\n",
    "\n",
    "@app.route('/')\n",
    "def index():    \n",
    "    tbl = Table(AIRTABLE_PAT, AIRTABLE_TEST_BASE_ID, AIRTABLE_TEST_CONTACTS)\n",
    "    contacts = tbl.all()\n",
    "    return render_template('index.html', records=contacts)\n",
    "\n",
    "if __name__ == '__main__':\n",
    "    app.run(debug=True)\n"
   ]
  },
  {
   "cell_type": "code",
   "execution_count": null,
   "metadata": {},
   "outputs": [],
   "source": [
    "# Airtable API/.env test \n",
    "import os\n",
    "from dotenv import load_dotenv\n",
    "from flask import Flask, render_template\n",
    "import requests as rq\n",
    "\n",
    "load_dotenv() \n",
    "AIRTABLE_PAT = (os.getenv(\"AIRTABLE_PAT\")) #-> str: #initalizes personal access token\n",
    "AIRTABLE_TEST_BASE_ID = (\"appr8SepSgx9SP6ir\") #-> str: #initalizes base ID\n",
    "AIRTABLE_TEST_CONTACTS = (\"tblXBR1YTXYvGhwWJ\") #-> str: #initalizes table\n",
    "\n",
    "app = Flask(__name__)\n",
    "\n",
    "@app.route('/')\n",
    "def index():\n",
    "    # Make a GET request to the Airtable API with the personal access token\n",
    "    url = f'https://api.airtable.com/v0/{AIRTABLE_TEST_BASE_ID}/{AIRTABLE_TEST_CONTACTS}'\n",
    "    headers = {'Authorization': f'Bearer {AIRTABLE_PAT}'}\n",
    "\n",
    "    airtable_response = rq.get(url, headers=headers)\n",
    "    if airtable_response.status_code == 200:\n",
    "        data = airtable_response.json()\n",
    "        records = data.get('records', [])\n",
    "        return render_template('index.html', records=records)\n",
    "    else:\n",
    "        return f'Error: {airtable_response.status_code} - {airtable_response.text}'\n",
    "\n",
    "if __name__ == '__main__':\n",
    "    app.run(debug=True)\n"
   ]
  }
 ],
 "metadata": {
  "kernelspec": {
   "display_name": "Python 3",
   "language": "python",
   "name": "python3"
  },
  "language_info": {
   "codemirror_mode": {
    "name": "ipython",
    "version": 3
   },
   "file_extension": ".py",
   "mimetype": "text/x-python",
   "name": "python",
   "nbconvert_exporter": "python",
   "pygments_lexer": "ipython3",
   "version": "3.11.4"
  },
  "orig_nbformat": 4
 },
 "nbformat": 4,
 "nbformat_minor": 2
}
