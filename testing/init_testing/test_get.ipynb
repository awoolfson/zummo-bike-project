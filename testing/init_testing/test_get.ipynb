{
 "cells": [
  {
   "cell_type": "markdown",
   "metadata": {},
   "source": [
    "These are legacy cells that were orginally modules used for testing, create a module with the code used in the modules if you want to play around with them, because as cells most of these modules do not properly function."
   ]
  },
  {
   "cell_type": "code",
   "execution_count": null,
   "metadata": {},
   "outputs": [],
   "source": [
    "import sys\n",
    "sys.path.append('../src/')\n",
    "from get_records import get_records\n",
    "from config import AIRTABLE_PAT, AIRTABLE_TEST_BASE_ID, AIRTABLE_TEST_BIKES_FOR_SALE, AIRTABLE_TEST_SERVICES\n",
    "from pprint import pprint\n",
    "from pyairtable import Api"
   ]
  },
  {
   "cell_type": "code",
   "execution_count": null,
   "metadata": {},
   "outputs": [],
   "source": [
    "api = Api(AIRTABLE_PAT)\n",
    "table = api.table(AIRTABLE_TEST_BASE_ID, AIRTABLE_TEST_BIKES_FOR_SALE)\n",
    "fields = {\n",
    "    'Bike Status': 'Available',\n",
    "    'Bike Style': 'Road',\n",
    "}\n",
    "pprint(get_records(table, fields))"
   ]
  },
  {
   "cell_type": "code",
   "execution_count": null,
   "metadata": {},
   "outputs": [],
   "source": [
    "table = api.table(AIRTABLE_TEST_BASE_ID, AIRTABLE_TEST_SERVICES)\n",
    "pprint(table.all())\n",
    "fields = {\n",
    "    'Bike Status': 'Available',\n",
    "    'Bike Style': 'Road',\n",
    "}\n",
    "pprint(get_records(table, fields))"
   ]
  },
  {
   "cell_type": "code",
   "execution_count": null,
   "metadata": {},
   "outputs": [],
   "source": [
    "import os\n",
    "from dotenv import load_dotenv\n",
    "from flask import Flask, render_template\n",
    "from pyairtable import Table\n",
    "\n",
    "load_dotenv()\n",
    "\n",
    "AIRTABLE_PAT = (os.getenv(\"AIRTABLE_PAT\")) #-> str: #initalizes personal access token\n",
    "AIRTABLE_TEST_BASE_ID = (os.getenv(\"AIRTABLE_BASEID\")) #-> str: #initalizes base ID\n",
    "AIRTABLE_TEST_CONTACTS = (os.getenv(\"AIRTABLE_CONTACTS\")) #-> str: #initalizes table\n",
    "\n",
    "app = Flask(__name__)\n",
    "\n",
    "@app.route('/')\n",
    "def index():    \n",
    "    tbl = Table(AIRTABLE_PAT, AIRTABLE_TEST_BASE_ID, AIRTABLE_TEST_CONTACTS)\n",
    "    contacts = tbl.all()\n",
    "    return render_template('index.html', records=contacts)\n",
    "\n",
    "if __name__ == '__main__':\n",
    "    app.run(debug=True)\n"
   ]
  },
  {
   "cell_type": "code",
   "execution_count": null,
   "metadata": {},
   "outputs": [],
   "source": [
    "# Airtable API/.env test \n",
    "import os\n",
    "from dotenv import load_dotenv\n",
    "from flask import Flask, render_template\n",
    "import requests as rq\n",
    "\n",
    "load_dotenv() \n",
    "AIRTABLE_PAT = (os.getenv(\"AIRTABLE_PAT\")) #-> str: #initalizes personal access token\n",
    "AIRTABLE_TEST_BASE_ID = (\"appr8SepSgx9SP6ir\") #-> str: #initalizes base ID\n",
    "AIRTABLE_TEST_CONTACTS = (\"tblXBR1YTXYvGhwWJ\") #-> str: #initalizes table\n",
    "\n",
    "app = Flask(__name__)\n",
    "\n",
    "@app.route('/')\n",
    "def index():\n",
    "    # Make a GET request to the Airtable API with the personal access token\n",
    "    url = f'https://api.airtable.com/v0/{AIRTABLE_TEST_BASE_ID}/{AIRTABLE_TEST_CONTACTS}'\n",
    "    headers = {'Authorization': f'Bearer {AIRTABLE_PAT}'}\n",
    "\n",
    "    airtable_response = rq.get(url, headers=headers)\n",
    "    if airtable_response.status_code == 200:\n",
    "        data = airtable_response.json()\n",
    "        records = data.get('records', [])\n",
    "        return render_template('index.html', records=records)\n",
    "    else:\n",
    "        return f'Error: {airtable_response.status_code} - {airtable_response.text}'\n",
    "\n",
    "if __name__ == '__main__':\n",
    "    app.run(debug=True)\n"
   ]
  }
 ],
 "metadata": {
  "kernelspec": {
   "display_name": "Python 3",
   "language": "python",
   "name": "python3"
  },
  "language_info": {
   "codemirror_mode": {
    "name": "ipython",
    "version": 3
   },
   "file_extension": ".py",
   "mimetype": "text/x-python",
   "name": "python",
   "nbconvert_exporter": "python",
   "pygments_lexer": "ipython3",
   "version": "3.11.5"
  },
  "orig_nbformat": 4
 },
 "nbformat": 4,
 "nbformat_minor": 2
}
